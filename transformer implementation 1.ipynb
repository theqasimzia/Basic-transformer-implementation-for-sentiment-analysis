{
 "cells": [
  {
   "cell_type": "markdown",
   "id": "dbcec134-469e-4fc3-a667-2b11f1058791",
   "metadata": {},
   "source": [
    "# Basic transformer implementation based on Vaswani et al. \"Attention is all you need\" for sentiment analysis using tensorflow/keras"
   ]
  },
  {
   "cell_type": "markdown",
   "id": "21bb995e-9d91-489a-84ea-ca2044390622",
   "metadata": {},
   "source": [
    "## STEP 1: IMPORT NECESSARY LIBRARIES"
   ]
  },
  {
   "cell_type": "code",
   "execution_count": 3,
   "id": "90cf8a85-34f6-4d72-a756-b08f2bc62063",
   "metadata": {},
   "outputs": [
    {
     "name": "stdout",
     "output_type": "stream",
     "text": [
      "WARNING:tensorflow:From C:\\Users\\TECHMALANG\\anaconda3\\Lib\\site-packages\\keras\\src\\losses.py:2976: The name tf.losses.sparse_softmax_cross_entropy is deprecated. Please use tf.compat.v1.losses.sparse_softmax_cross_entropy instead.\n",
      "\n"
     ]
    }
   ],
   "source": [
    "# Import necessary libraries\n",
    "import numpy as np\n",
    "import pandas as pd\n",
    "import tensorflow as tf\n",
    "from tensorflow.keras.preprocessing.text import Tokenizer\n",
    "from tensorflow.keras.preprocessing.sequence import pad_sequences\n",
    "from tensorflow.keras.models import Sequential\n",
    "from tensorflow.keras.layers import Embedding, GlobalAveragePooling1D, Dense\n",
    "from sklearn.model_selection import train_test_split\n"
   ]
  },
  {
   "cell_type": "markdown",
   "id": "d49dd495-8520-4170-914f-a263b172c764",
   "metadata": {},
   "source": [
    "## STEP 2: LOAD AND INSPECT DATASET"
   ]
  },
  {
   "cell_type": "code",
   "execution_count": 4,
   "id": "e9ba530c-fb09-4155-9d74-998ba1cc16ba",
   "metadata": {},
   "outputs": [
    {
     "data": {
      "text/html": [
       "<div>\n",
       "<style scoped>\n",
       "    .dataframe tbody tr th:only-of-type {\n",
       "        vertical-align: middle;\n",
       "    }\n",
       "\n",
       "    .dataframe tbody tr th {\n",
       "        vertical-align: top;\n",
       "    }\n",
       "\n",
       "    .dataframe thead th {\n",
       "        text-align: right;\n",
       "    }\n",
       "</style>\n",
       "<table border=\"1\" class=\"dataframe\">\n",
       "  <thead>\n",
       "    <tr style=\"text-align: right;\">\n",
       "      <th></th>\n",
       "      <th>Id</th>\n",
       "      <th>ProductId</th>\n",
       "      <th>UserId</th>\n",
       "      <th>ProfileName</th>\n",
       "      <th>HelpfulnessNumerator</th>\n",
       "      <th>HelpfulnessDenominator</th>\n",
       "      <th>Score</th>\n",
       "      <th>Time</th>\n",
       "      <th>Summary</th>\n",
       "      <th>Text</th>\n",
       "    </tr>\n",
       "  </thead>\n",
       "  <tbody>\n",
       "    <tr>\n",
       "      <th>0</th>\n",
       "      <td>1</td>\n",
       "      <td>B001E4KFG0</td>\n",
       "      <td>A3SGXH7AUHU8GW</td>\n",
       "      <td>delmartian</td>\n",
       "      <td>1</td>\n",
       "      <td>1</td>\n",
       "      <td>5</td>\n",
       "      <td>1303862400</td>\n",
       "      <td>Good Quality Dog Food</td>\n",
       "      <td>I have bought several of the Vitality canned d...</td>\n",
       "    </tr>\n",
       "    <tr>\n",
       "      <th>1</th>\n",
       "      <td>2</td>\n",
       "      <td>B00813GRG4</td>\n",
       "      <td>A1D87F6ZCVE5NK</td>\n",
       "      <td>dll pa</td>\n",
       "      <td>0</td>\n",
       "      <td>0</td>\n",
       "      <td>1</td>\n",
       "      <td>1346976000</td>\n",
       "      <td>Not as Advertised</td>\n",
       "      <td>Product arrived labeled as Jumbo Salted Peanut...</td>\n",
       "    </tr>\n",
       "    <tr>\n",
       "      <th>2</th>\n",
       "      <td>3</td>\n",
       "      <td>B000LQOCH0</td>\n",
       "      <td>ABXLMWJIXXAIN</td>\n",
       "      <td>Natalia Corres \"Natalia Corres\"</td>\n",
       "      <td>1</td>\n",
       "      <td>1</td>\n",
       "      <td>4</td>\n",
       "      <td>1219017600</td>\n",
       "      <td>\"Delight\" says it all</td>\n",
       "      <td>This is a confection that has been around a fe...</td>\n",
       "    </tr>\n",
       "    <tr>\n",
       "      <th>3</th>\n",
       "      <td>4</td>\n",
       "      <td>B000UA0QIQ</td>\n",
       "      <td>A395BORC6FGVXV</td>\n",
       "      <td>Karl</td>\n",
       "      <td>3</td>\n",
       "      <td>3</td>\n",
       "      <td>2</td>\n",
       "      <td>1307923200</td>\n",
       "      <td>Cough Medicine</td>\n",
       "      <td>If you are looking for the secret ingredient i...</td>\n",
       "    </tr>\n",
       "    <tr>\n",
       "      <th>4</th>\n",
       "      <td>5</td>\n",
       "      <td>B006K2ZZ7K</td>\n",
       "      <td>A1UQRSCLF8GW1T</td>\n",
       "      <td>Michael D. Bigham \"M. Wassir\"</td>\n",
       "      <td>0</td>\n",
       "      <td>0</td>\n",
       "      <td>5</td>\n",
       "      <td>1350777600</td>\n",
       "      <td>Great taffy</td>\n",
       "      <td>Great taffy at a great price.  There was a wid...</td>\n",
       "    </tr>\n",
       "  </tbody>\n",
       "</table>\n",
       "</div>"
      ],
      "text/plain": [
       "   Id   ProductId          UserId                      ProfileName  \\\n",
       "0   1  B001E4KFG0  A3SGXH7AUHU8GW                       delmartian   \n",
       "1   2  B00813GRG4  A1D87F6ZCVE5NK                           dll pa   \n",
       "2   3  B000LQOCH0   ABXLMWJIXXAIN  Natalia Corres \"Natalia Corres\"   \n",
       "3   4  B000UA0QIQ  A395BORC6FGVXV                             Karl   \n",
       "4   5  B006K2ZZ7K  A1UQRSCLF8GW1T    Michael D. Bigham \"M. Wassir\"   \n",
       "\n",
       "   HelpfulnessNumerator  HelpfulnessDenominator  Score        Time  \\\n",
       "0                     1                       1      5  1303862400   \n",
       "1                     0                       0      1  1346976000   \n",
       "2                     1                       1      4  1219017600   \n",
       "3                     3                       3      2  1307923200   \n",
       "4                     0                       0      5  1350777600   \n",
       "\n",
       "                 Summary                                               Text  \n",
       "0  Good Quality Dog Food  I have bought several of the Vitality canned d...  \n",
       "1      Not as Advertised  Product arrived labeled as Jumbo Salted Peanut...  \n",
       "2  \"Delight\" says it all  This is a confection that has been around a fe...  \n",
       "3         Cough Medicine  If you are looking for the secret ingredient i...  \n",
       "4            Great taffy  Great taffy at a great price.  There was a wid...  "
      ]
     },
     "execution_count": 4,
     "metadata": {},
     "output_type": "execute_result"
    }
   ],
   "source": [
    "# Load the dataset\n",
    "dataset_path = 'reviews.csv'  \n",
    "df = pd.read_csv(dataset_path)\n",
    "\n",
    "# Display the first few rows of the dataframe\n",
    "df.head()\n"
   ]
  },
  {
   "cell_type": "code",
   "execution_count": 5,
   "id": "20e6020f-8b6f-4ca1-81c1-2bcfdbc7619f",
   "metadata": {},
   "outputs": [
    {
     "name": "stdout",
     "output_type": "stream",
     "text": [
      "<class 'pandas.core.frame.DataFrame'>\n",
      "RangeIndex: 568454 entries, 0 to 568453\n",
      "Data columns (total 10 columns):\n",
      " #   Column                  Non-Null Count   Dtype \n",
      "---  ------                  --------------   ----- \n",
      " 0   Id                      568454 non-null  int64 \n",
      " 1   ProductId               568454 non-null  object\n",
      " 2   UserId                  568454 non-null  object\n",
      " 3   ProfileName             568428 non-null  object\n",
      " 4   HelpfulnessNumerator    568454 non-null  int64 \n",
      " 5   HelpfulnessDenominator  568454 non-null  int64 \n",
      " 6   Score                   568454 non-null  int64 \n",
      " 7   Time                    568454 non-null  int64 \n",
      " 8   Summary                 568427 non-null  object\n",
      " 9   Text                    568454 non-null  object\n",
      "dtypes: int64(5), object(5)\n",
      "memory usage: 43.4+ MB\n"
     ]
    }
   ],
   "source": [
    "df.info()"
   ]
  },
  {
   "cell_type": "code",
   "execution_count": 6,
   "id": "2c696f1a-d1cd-4df8-b433-d9fc81e36cac",
   "metadata": {},
   "outputs": [
    {
     "data": {
      "text/plain": [
       "0    I have bought several of the Vitality canned d...\n",
       "1    Product arrived labeled as Jumbo Salted Peanut...\n",
       "2    This is a confection that has been around a fe...\n",
       "3    If you are looking for the secret ingredient i...\n",
       "4    Great taffy at a great price.  There was a wid...\n",
       "Name: Text, dtype: object"
      ]
     },
     "execution_count": 6,
     "metadata": {},
     "output_type": "execute_result"
    }
   ],
   "source": [
    "df.Text.head()\n"
   ]
  },
  {
   "cell_type": "markdown",
   "id": "b43730c8-710b-467d-b607-dcb9508f6098",
   "metadata": {},
   "source": [
    "## STEP 3: DATA PREPROCESSING"
   ]
  },
  {
   "cell_type": "markdown",
   "id": "7f840161-dc8e-428e-9004-a87a9a4236af",
   "metadata": {},
   "source": [
    "### Tokenization and padding"
   ]
  },
  {
   "cell_type": "code",
   "execution_count": 7,
   "id": "26c52e65-fc0d-4262-88ee-64a049cab22c",
   "metadata": {},
   "outputs": [],
   "source": [
    "# Initialize and fit the tokenizer\n",
    "tokenizer = Tokenizer(num_words=10000, oov_token=\"<OOV>\")\n",
    "tokenizer.fit_on_texts(df['Text'])\n",
    "\n",
    "# Convert text to sequences\n",
    "sequences = tokenizer.texts_to_sequences(df['Text'])\n",
    "\n",
    "# Pad the sequences\n",
    "# Choose a practical max_length\n",
    "max_length = 128  # Adjust this based on your dataset\n",
    "\n",
    "# Pad the sequences with the new max_length\n",
    "padded_sequences = pad_sequences(sequences, maxlen=max_length, padding='post', truncating='post')\n",
    "# Convert sentiment scores to binary labels\n",
    "df['Sentiment'] = np.where(df['Score'] > 3, 1, 0)\n",
    "labels = df['Sentiment'].values\n"
   ]
  },
  {
   "cell_type": "markdown",
   "id": "b9776057-3102-4b5e-998f-dec1719ef0bf",
   "metadata": {},
   "source": [
    "### Splitting the data"
   ]
  },
  {
   "cell_type": "code",
   "execution_count": 8,
   "id": "393fe16e-a2c8-458e-8852-051c0c744b36",
   "metadata": {},
   "outputs": [],
   "source": [
    "# Split the data into training and testing sets\n",
    "X_train, X_test, y_train, y_test = train_test_split(padded_sequences, labels, test_size=0.2, random_state=42)\n"
   ]
  },
  {
   "cell_type": "markdown",
   "id": "cdeb4938-70a2-4f3e-978c-0e3b5791c438",
   "metadata": {},
   "source": [
    "## STEP 4: DEFINING MODEL ARCHITECTURE"
   ]
  },
  {
   "cell_type": "code",
   "execution_count": 9,
   "id": "935f2ce6-7aad-43fa-b684-5278fa712110",
   "metadata": {},
   "outputs": [
    {
     "name": "stdout",
     "output_type": "stream",
     "text": [
      "WARNING:tensorflow:From C:\\Users\\TECHMALANG\\anaconda3\\Lib\\site-packages\\keras\\src\\backend.py:873: The name tf.get_default_graph is deprecated. Please use tf.compat.v1.get_default_graph instead.\n",
      "\n",
      "WARNING:tensorflow:From C:\\Users\\TECHMALANG\\anaconda3\\Lib\\site-packages\\keras\\src\\optimizers\\__init__.py:309: The name tf.train.Optimizer is deprecated. Please use tf.compat.v1.train.Optimizer instead.\n",
      "\n"
     ]
    }
   ],
   "source": [
    "# Define a simplified transformer model architecture\n",
    "model = Sequential([\n",
    "    Embedding(input_dim=10000, output_dim=64, input_length=max_length),\n",
    "    GlobalAveragePooling1D(),\n",
    "    Dense(24, activation='relu'),\n",
    "    Dense(1, activation='sigmoid')\n",
    "])\n",
    "\n",
    "model.compile(optimizer='adam', loss='binary_crossentropy', metrics=['accuracy'])\n"
   ]
  },
  {
   "cell_type": "markdown",
   "id": "3c143fe5-98f4-4c7c-a276-691cd3c7ec46",
   "metadata": {},
   "source": [
    "## STEP 5: TRAIN THE MODEL"
   ]
  },
  {
   "cell_type": "code",
   "execution_count": 10,
   "id": "95bceb8a-0f1f-4dff-8584-6290b2dd56b7",
   "metadata": {},
   "outputs": [
    {
     "name": "stdout",
     "output_type": "stream",
     "text": [
      "Epoch 1/10\n",
      "WARNING:tensorflow:From C:\\Users\\TECHMALANG\\anaconda3\\Lib\\site-packages\\keras\\src\\utils\\tf_utils.py:492: The name tf.ragged.RaggedTensorValue is deprecated. Please use tf.compat.v1.ragged.RaggedTensorValue instead.\n",
      "\n",
      "WARNING:tensorflow:From C:\\Users\\TECHMALANG\\anaconda3\\Lib\\site-packages\\keras\\src\\engine\\base_layer_utils.py:384: The name tf.executing_eagerly_outside_functions is deprecated. Please use tf.compat.v1.executing_eagerly_outside_functions instead.\n",
      "\n",
      "14212/14212 [==============================] - 146s 10ms/step - loss: 0.2716 - accuracy: 0.8857 - val_loss: 0.2454 - val_accuracy: 0.8976\n",
      "Epoch 2/10\n",
      "14212/14212 [==============================] - 138s 10ms/step - loss: 0.2353 - accuracy: 0.9010 - val_loss: 0.2358 - val_accuracy: 0.9013\n",
      "Epoch 3/10\n",
      "14212/14212 [==============================] - 141s 10ms/step - loss: 0.2227 - accuracy: 0.9057 - val_loss: 0.2323 - val_accuracy: 0.9032\n",
      "Epoch 4/10\n",
      "14212/14212 [==============================] - 137s 10ms/step - loss: 0.2135 - accuracy: 0.9103 - val_loss: 0.2363 - val_accuracy: 0.9016\n",
      "Epoch 5/10\n",
      "14212/14212 [==============================] - 133s 9ms/step - loss: 0.2054 - accuracy: 0.9156 - val_loss: 0.2312 - val_accuracy: 0.9068\n",
      "Epoch 6/10\n",
      "14212/14212 [==============================] - 134s 9ms/step - loss: 0.1973 - accuracy: 0.9199 - val_loss: 0.2311 - val_accuracy: 0.9082\n",
      "Epoch 7/10\n",
      "14212/14212 [==============================] - 5394s 380ms/step - loss: 0.1895 - accuracy: 0.9241 - val_loss: 0.2326 - val_accuracy: 0.9090\n",
      "Epoch 8/10\n",
      "14212/14212 [==============================] - 152s 11ms/step - loss: 0.1818 - accuracy: 0.9279 - val_loss: 0.2360 - val_accuracy: 0.9079\n",
      "Epoch 9/10\n",
      "14212/14212 [==============================] - 147s 10ms/step - loss: 0.1744 - accuracy: 0.9318 - val_loss: 0.2347 - val_accuracy: 0.9114\n",
      "Epoch 10/10\n",
      "14212/14212 [==============================] - 130s 9ms/step - loss: 0.1669 - accuracy: 0.9355 - val_loss: 0.2368 - val_accuracy: 0.9109\n"
     ]
    }
   ],
   "source": [
    "# Train the model\n",
    "history = model.fit(X_train, y_train, epochs=10, validation_data=(X_test, y_test))\n"
   ]
  },
  {
   "cell_type": "markdown",
   "id": "ca6d6c70-a7b8-4b18-af96-e255eb20d88f",
   "metadata": {},
   "source": [
    "## STEP 6: EVALUATE THE MODEL"
   ]
  },
  {
   "cell_type": "code",
   "execution_count": 12,
   "id": "04bb155a-f620-46f7-af2d-e0704e207ca1",
   "metadata": {},
   "outputs": [
    {
     "name": "stdout",
     "output_type": "stream",
     "text": [
      "3553/3553 - 7s - loss: 0.2368 - accuracy: 0.9109 - 7s/epoch - 2ms/step\n",
      "\n",
      "Test Accuracy: 0.9108988642692566\n"
     ]
    }
   ],
   "source": [
    "# Evaluate the model on the testing set\n",
    "test_loss, test_acc = model.evaluate(X_test, y_test, verbose=2)\n",
    "print(f'\\nTest Accuracy: {test_acc}')\n"
   ]
  },
  {
   "cell_type": "markdown",
   "id": "55870f28-5228-4bf0-92be-0c3eb7269517",
   "metadata": {},
   "source": [
    "## STEP 7: TEST THE MODEL WITH NEW DATA"
   ]
  },
  {
   "cell_type": "markdown",
   "id": "684a940e-7183-4720-a396-3171b0babee1",
   "metadata": {},
   "source": [
    "### Preprocess new data"
   ]
  },
  {
   "cell_type": "code",
   "execution_count": 14,
   "id": "94be65ef-d5c4-4621-90e1-5ce20c49206a",
   "metadata": {},
   "outputs": [],
   "source": [
    "# New text data for testing\n",
    "new_reviews = [\"An amazing product! Highly recommend.\", \"Horrible, I would never buy this again.\"]\n",
    "\n",
    "# Preprocess the new reviews\n",
    "new_sequences = tokenizer.texts_to_sequences(new_reviews)\n",
    "new_padded_sequences = pad_sequences(new_sequences, maxlen=max_length, padding='post')\n"
   ]
  },
  {
   "cell_type": "markdown",
   "id": "905035a1-c3cd-4b26-b337-ab5296d42b0b",
   "metadata": {},
   "source": [
    "### Make predictions"
   ]
  },
  {
   "cell_type": "code",
   "execution_count": null,
   "id": "941ca5d1-508e-4842-bb6c-5623e68326cf",
   "metadata": {},
   "outputs": [],
   "source": []
  }
 ],
 "metadata": {
  "kernelspec": {
   "display_name": "Python 3 (ipykernel)",
   "language": "python",
   "name": "python3"
  },
  "language_info": {
   "codemirror_mode": {
    "name": "ipython",
    "version": 3
   },
   "file_extension": ".py",
   "mimetype": "text/x-python",
   "name": "python",
   "nbconvert_exporter": "python",
   "pygments_lexer": "ipython3",
   "version": "3.11.7"
  }
 },
 "nbformat": 4,
 "nbformat_minor": 5
}
